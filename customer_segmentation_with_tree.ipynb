{
 "cells": [
  {
   "cell_type": "markdown",
   "id": "e3ba591b",
   "metadata": {},
   "source": [
    "# Customer Segmentation & Classification with K-Means and Decision Tree\n",
    "\n",
    "This notebook performs customer segmentation using K-Means and then trains a Decision Tree classifier to learn the segmentation. The tree is visualized and new customer records can be classified into clusters."
   ]
  },
  {
   "cell_type": "code",
   "execution_count": null,
   "id": "7452f51c",
   "metadata": {},
   "outputs": [],
   "source": [
    "# Imports\n",
    "import pandas as pd\n",
    "from sklearn.cluster import KMeans\n",
    "from sklearn.preprocessing import StandardScaler\n",
    "import matplotlib.pyplot as plt\n",
    "\n",
    "# Read the dataset from Lakehouse\n",
    "try:\n",
    "    df = pd.read_parquet('/lakehouse/default/Tables/sample_customer_data')\n",
    "    print('Data loaded with shape:', df.shape)\n",
    "except Exception as e:\n",
    "    print('Unable to load data:', e)\n",
    "    df = None\n",
    "\n",
    "if df is not None:\n",
    "    # Encode categorical variables\n",
    "    df_encoded = pd.get_dummies(df, columns=['Gender','Region'], drop_first=True)\n",
    "    # Features selection\n",
    "    features = ['Age', 'Annual Income (k$)', 'Spending Score (1-100)'] + [c for c in df_encoded.columns if c.startswith('Gender_') or c.startswith('Region_')]\n",
    "    print('Features:', features)\n",
    "    # Scale for K-Means\n",
    "    scaler = StandardScaler()\n",
    "    X = df_encoded[features]\n",
    "    X_scaled = scaler.fit_transform(X)\n",
    "    # K-Means\n",
    "    kmeans = KMeans(n_clusters=4, random_state=42)\n",
    "    df_encoded['Cluster'] = kmeans.fit_predict(X_scaled)\n",
    "    print('Cluster distribution:', df_encoded['Cluster'].value_counts().sort_index())\n",
    "else:\n",
    "    print('Data not available for clustering.')\n"
   ]
  },
  {
   "cell_type": "code",
   "execution_count": null,
   "id": "a64737b3",
   "metadata": {},
   "outputs": [],
   "source": [
    "if df is not None:\n",
    "    bins = [0,20,30,40,50,60,70,100]\n",
    "    labels = ['<20','20-30','30-40','40-50','50-60','60-70','70+']\n",
    "    df['AgeGroup'] = pd.cut(df['Age'], bins=bins, labels=labels, right=False)\n",
    "    print('AgeGroup added.')\n"
   ]
  },
  {
   "cell_type": "code",
   "execution_count": null,
   "id": "c4d16317",
   "metadata": {},
   "outputs": [],
   "source": [
    "if df is not None:\n",
    "    gender_ct = pd.crosstab(df['Gender'], df_encoded['Cluster'])\n",
    "    region_ct = pd.crosstab(df['Region'], df_encoded['Cluster'])\n",
    "    age_ct    = pd.crosstab(df['AgeGroup'], df_encoded['Cluster'])\n",
    "    print('Gender CrosTab:\n",
    "', gender_ct)\n",
    "    print('Region CrosTab:\n",
    "', region_ct)\n",
    "    print('AgeGroup CrosTab:\n",
    "', age_ct)\n",
    "    # Plots\n",
    "    ax1 = gender_ct.plot(kind='bar', figsize=(8,5))\n",
    "    ax1.set_title('Gender Distribution Across Clusters')\n",
    "    ax1.set_xlabel('Gender'); ax1.set_ylabel('Count')\n",
    "    plt.tight_layout(); plt.show()\n",
    "\n",
    "    ax2 = region_ct.plot(kind='bar', figsize=(8,5))\n",
    "    ax2.set_title('Region Distribution Across Clusters')\n",
    "    ax2.set_xlabel('Region'); ax2.set_ylabel('Count')\n",
    "    plt.tight_layout(); plt.show()\n",
    "\n",
    "    ax3 = age_ct.plot(kind='bar', figsize=(8,5))\n",
    "    ax3.set_title('AgeGroup Distribution Across Clusters')\n",
    "    ax3.set_xlabel('AgeGroup'); ax3.set_ylabel('Count')\n",
    "    plt.tight_layout(); plt.show()\n"
   ]
  },
  {
   "cell_type": "code",
   "execution_count": null,
   "id": "7a798b43",
   "metadata": {},
   "outputs": [],
   "source": [
    "if df is not None:\n",
    "    from sklearn.tree import DecisionTreeClassifier, plot_tree\n",
    "    # Use the encoded features (unscaled) to train the tree\n",
    "    X_tree = df_encoded[features]\n",
    "    y_tree = df_encoded['Cluster']\n",
    "    dtc = DecisionTreeClassifier(max_depth=4, random_state=42)\n",
    "    dtc.fit(X_tree, y_tree)\n",
    "    print('Decision Tree trained.')\n",
    "    # Plot the tree\n",
    "    plt.figure(figsize=(20,10))\n",
    "    plot_tree(dtc, feature_names=features, class_names=[str(c) for c in sorted(df_encoded['Cluster'].unique())], filled=True)\n",
    "    plt.show()\n"
   ]
  },
  {
   "cell_type": "code",
   "execution_count": null,
   "id": "b59b7b0e",
   "metadata": {},
   "outputs": [],
   "source": [
    "# Define a new customer record and classify it\n",
    "if df is not None:\n",
    "    new_customer = pd.DataFrame([{\n",
    "        'Age': 28,\n",
    "        'Annual Income (k$)': 55,\n",
    "        'Spending Score (1-100)': 60,\n",
    "        'Gender': 'Male',\n",
    "        'Region': 'North'\n",
    "    }])\n",
    "    # Encode new customer\n",
    "    new_enc = pd.get_dummies(new_customer, columns=['Gender','Region'], drop_first=True)\n",
    "    # Reindex to match training features\n",
    "    new_enc = new_enc.reindex(columns=features, fill_value=0)\n",
    "    # Predict\n",
    "    pred = dtc.predict(new_enc)\n",
    "    print('New customer belongs to cluster:', pred[0])\n"
   ]
  },
  {
   "cell_type": "code",
   "execution_count": null,
   "id": "8c072818",
   "metadata": {},
   "outputs": [],
   "source": [
    "if df is not None:\n",
    "    # Save segregated results\n",
    "    df_encoded.to_csv('/lakehouse/default/Files/segmented_customers.csv', index=False)\n",
    "    print('Segmented customers saved.')\n",
    "    # Save plots to files if wanted\n"
   ]
  }
 ],
 "metadata": {},
 "nbformat": 4,
 "nbformat_minor": 5
}
